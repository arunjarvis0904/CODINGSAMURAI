{
 "cells": [
  {
   "cell_type": "code",
   "execution_count": 1,
   "id": "b2740286-71a8-4d5b-b4f8-1aebb969463c",
   "metadata": {},
   "outputs": [
    {
     "name": "stdout",
     "output_type": "stream",
     "text": [
      "Feature Names: ['sepal length (cm)', 'sepal width (cm)', 'petal length (cm)', 'petal width (cm)']\n",
      "Target Names: ['setosa' 'versicolor' 'virginica']\n",
      "First 5 rows of features:\n",
      " [[5.1 3.5 1.4 0.2]\n",
      " [4.9 3.  1.4 0.2]\n",
      " [4.7 3.2 1.3 0.2]\n",
      " [4.6 3.1 1.5 0.2]\n",
      " [5.  3.6 1.4 0.2]]\n",
      "First 5 target labels: [0 0 0 0 0]\n"
     ]
    }
   ],
   "source": [
    "from sklearn.datasets import load_iris\n",
    "\n",
    " \n",
    "iris = load_iris()\n",
    "\n",
    " \n",
    "X = iris.data   \n",
    "y = iris.target   \n",
    "\n",
    "# View dataset information\n",
    "print(\"Feature Names:\", iris.feature_names)\n",
    "print(\"Target Names:\", iris.target_names)\n",
    "print(\"First 5 rows of features:\\n\", X[:5])\n",
    "print(\"First 5 target labels:\", y[:5])\n"
   ]
  },
  {
   "cell_type": "code",
   "execution_count": 2,
   "id": "f47c2be4-1e4a-4612-9009-eea060b29019",
   "metadata": {},
   "outputs": [
    {
     "name": "stdout",
     "output_type": "stream",
     "text": [
      "Training data shape: (105, 4)\n",
      "Testing data shape: (45, 4)\n"
     ]
    }
   ],
   "source": [
    "from sklearn.model_selection import train_test_split\n",
    "\n",
    " \n",
    "X_train, X_test, y_train, y_test = train_test_split(X, y, test_size=0.3, random_state=42, stratify=y)\n",
    "\n",
    " \n",
    "print(f\"Training data shape: {X_train.shape}\")\n",
    "print(f\"Testing data shape: {X_test.shape}\")\n"
   ]
  },
  {
   "cell_type": "code",
   "execution_count": 3,
   "id": "1d6cd973-2aff-42d4-9a32-b14a25eb1e01",
   "metadata": {},
   "outputs": [
    {
     "name": "stdout",
     "output_type": "stream",
     "text": [
      "Training Accuracy: 1.00\n"
     ]
    }
   ],
   "source": [
    "from sklearn.ensemble import RandomForestClassifier\n",
    "\n",
    " \n",
    "clf = RandomForestClassifier(random_state=42, n_estimators=100)\n",
    "\n",
    " \n",
    "clf.fit(X_train, y_train)\n",
    "\n",
    " \n",
    "train_accuracy = clf.score(X_train, y_train)\n",
    "print(f\"Training Accuracy: {train_accuracy:.2f}\")\n"
   ]
  },
  {
   "cell_type": "code",
   "execution_count": 5,
   "id": "b12e79b0-1ae9-431d-8728-d4a97ee78a1d",
   "metadata": {},
   "outputs": [
    {
     "name": "stdout",
     "output_type": "stream",
     "text": [
      "Cross-validation scores: [0.96666667 0.96666667 0.93333333 0.96666667 1.        ]\n",
      "Mean cross-validation score: 0.97\n"
     ]
    }
   ],
   "source": [
    "from sklearn.model_selection import cross_val_score\n",
    "\n",
    " \n",
    "cv_scores = cross_val_score(clf, X, y, cv=5)   \n",
    "\n",
    "\n",
    "print(f\"Cross-validation scores: {cv_scores}\")\n",
    "print(f\"Mean cross-validation score: {cv_scores.mean():.2f}\")\n"
   ]
  },
  {
   "cell_type": "code",
   "execution_count": 6,
   "id": "1f2cc5fb-182e-4ccb-b6f8-fe431a4d5b9f",
   "metadata": {},
   "outputs": [
    {
     "name": "stdout",
     "output_type": "stream",
     "text": [
      "Accuracy: 0.89\n",
      "\n",
      "Classification Report:\n",
      "              precision    recall  f1-score   support\n",
      "\n",
      "           0       1.00      1.00      1.00        15\n",
      "           1       0.78      0.93      0.85        15\n",
      "           2       0.92      0.73      0.81        15\n",
      "\n",
      "    accuracy                           0.89        45\n",
      "   macro avg       0.90      0.89      0.89        45\n",
      "weighted avg       0.90      0.89      0.89        45\n",
      "\n",
      "\n",
      "Confusion Matrix:\n",
      "[[15  0  0]\n",
      " [ 0 14  1]\n",
      " [ 0  4 11]]\n"
     ]
    }
   ],
   "source": [
    "from sklearn.metrics import accuracy_score, classification_report, confusion_matrix\n",
    "\n",
    " \n",
    "y_pred = clf.predict(X_test)\n",
    "\n",
    " \n",
    "accuracy = accuracy_score(y_test, y_pred)\n",
    "print(f\"Accuracy: {accuracy:.2f}\")\n",
    "\n",
    " \n",
    "print(\"\\nClassification Report:\")\n",
    "print(classification_report(y_test, y_pred))\n",
    "\n",
    " \n",
    "print(\"\\nConfusion Matrix:\")\n",
    "print(confusion_matrix(y_test, y_pred))\n"
   ]
  },
  {
   "cell_type": "code",
   "execution_count": 7,
   "id": "0fe427bf-8c88-4d19-be59-32b398f282ac",
   "metadata": {},
   "outputs": [
    {
     "ename": "NameError",
     "evalue": "name 'np' is not defined",
     "output_type": "error",
     "traceback": [
      "\u001b[1;31m---------------------------------------------------------------------------\u001b[0m",
      "\u001b[1;31mNameError\u001b[0m                                 Traceback (most recent call last)",
      "Cell \u001b[1;32mIn[7], line 1\u001b[0m\n\u001b[1;32m----> 1\u001b[0m new_data \u001b[38;5;241m=\u001b[39m np\u001b[38;5;241m.\u001b[39marray([[\u001b[38;5;241m5.1\u001b[39m, \u001b[38;5;241m3.5\u001b[39m, \u001b[38;5;241m1.4\u001b[39m, \u001b[38;5;241m0.2\u001b[39m],   \n\u001b[0;32m      2\u001b[0m                      [\u001b[38;5;241m6.7\u001b[39m, \u001b[38;5;241m3.0\u001b[39m, \u001b[38;5;241m5.2\u001b[39m, \u001b[38;5;241m2.3\u001b[39m]])   \n\u001b[0;32m      5\u001b[0m predictions \u001b[38;5;241m=\u001b[39m clf\u001b[38;5;241m.\u001b[39mpredict(new_data)\n\u001b[0;32m      8\u001b[0m predicted_species \u001b[38;5;241m=\u001b[39m [iris\u001b[38;5;241m.\u001b[39mtarget_names[p] \u001b[38;5;28;01mfor\u001b[39;00m p \u001b[38;5;129;01min\u001b[39;00m predictions]\n",
      "\u001b[1;31mNameError\u001b[0m: name 'np' is not defined"
     ]
    }
   ],
   "source": [
    " \n",
    "new_data = np.array([[5.1, 3.5, 1.4, 0.2],   \n",
    "                     [6.7, 3.0, 5.2, 2.3]])   \n",
    "\n",
    " \n",
    "predictions = clf.predict(new_data)\n",
    "\n",
    " \n",
    "predicted_species = [iris.target_names[p] for p in predictions]\n",
    "\n",
    " \n",
    "print(\"Predicted species for new data:\", predicted_species)\n"
   ]
  },
  {
   "cell_type": "code",
   "execution_count": 8,
   "id": "47871b50-4c98-43a6-934a-6b0fedf95424",
   "metadata": {},
   "outputs": [
    {
     "name": "stdout",
     "output_type": "stream",
     "text": [
      "Predicted species for new data: ['setosa', 'virginica']\n"
     ]
    }
   ],
   "source": [
    "import numpy as np \n",
    "\n",
    " \n",
    "new_data = np.array([[5.1, 3.5, 1.4, 0.2],    \n",
    "                     [6.7, 3.0, 5.2, 2.3]])   \n",
    "\n",
    " \n",
    "predictions = clf.predict(new_data)\n",
    "\n",
    " \n",
    "predicted_species = [iris.target_names[p] for p in predictions]\n",
    "\n",
    " \n",
    "print(\"Predicted species for new data:\", predicted_species)\n"
   ]
  },
  {
   "cell_type": "code",
   "execution_count": 10,
   "id": "ecbf949f-37c0-44a0-8a17-6764523c1b59",
   "metadata": {},
   "outputs": [
    {
     "name": "stdout",
     "output_type": "stream",
     "text": [
      "Model saved successfully!\n"
     ]
    }
   ],
   "source": [
    "import joblib\n",
    "\n",
    " \n",
    "joblib.dump(clf, 'iris_model.pkl')\n",
    "\n",
    "print(\"Model saved successfully!\")\n"
   ]
  },
  {
   "cell_type": "code",
   "execution_count": 11,
   "id": "3430056b-b91d-4338-bb61-7b2a7154ddd6",
   "metadata": {},
   "outputs": [
    {
     "name": "stdout",
     "output_type": "stream",
     "text": [
      "Predicted species with loaded model: ['setosa', 'virginica']\n"
     ]
    }
   ],
   "source": [
    " \n",
    "loaded_model = joblib.load('iris_model.pkl')\n",
    "\n",
    " \n",
    "predictions = loaded_model.predict(new_data)\n",
    "predicted_species = [iris.target_names[p] for p in predictions]\n",
    "\n",
    "print(\"Predicted species with loaded model:\", predicted_species)\n"
   ]
  },
  {
   "cell_type": "code",
   "execution_count": 12,
   "id": "d193406e-546f-4eb3-88f5-7216076b277a",
   "metadata": {},
   "outputs": [
    {
     "name": "stdout",
     "output_type": "stream",
     "text": [
      "Model Accuracy: 100.00%\n"
     ]
    }
   ],
   "source": [
    "# Importing libraries\n",
    "from sklearn.datasets import load_iris\n",
    "from sklearn.model_selection import train_test_split\n",
    "from sklearn.tree import DecisionTreeClassifier\n",
    "from sklearn.metrics import accuracy_score\n",
    "\n",
    "# Load the Iris dataset\n",
    "iris = load_iris()\n",
    "\n",
    "# Features (sepal and petal measurements)\n",
    "X = iris.data\n",
    "\n",
    "# Target (flower types)\n",
    "y = iris.target\n",
    "\n",
    "# Split the data into training and testing sets (80% training, 20% testing)\n",
    "X_train, X_test, y_train, y_test = train_test_split(X, y, test_size=0.2, random_state=42)\n",
    "\n",
    "# Create the Decision Tree model\n",
    "model = DecisionTreeClassifier()\n",
    "\n",
    "# Train the model with the training data\n",
    "model.fit(X_train, y_train)\n",
    "\n",
    "# Make predictions using the test data\n",
    "y_pred = model.predict(X_test)\n",
    "\n",
    "# Evaluate the model's accuracy\n",
    "accuracy = accuracy_score(y_test, y_pred)\n",
    "print(f\"Model Accuracy: {accuracy * 100:.2f}%\")\n"
   ]
  }
 ],
 "metadata": {
  "kernelspec": {
   "display_name": "Python 3 (ipykernel)",
   "language": "python",
   "name": "python3"
  },
  "language_info": {
   "codemirror_mode": {
    "name": "ipython",
    "version": 3
   },
   "file_extension": ".py",
   "mimetype": "text/x-python",
   "name": "python",
   "nbconvert_exporter": "python",
   "pygments_lexer": "ipython3",
   "version": "3.11.7"
  }
 },
 "nbformat": 4,
 "nbformat_minor": 5
}
